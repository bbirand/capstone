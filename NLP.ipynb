{
 "cells": [
  {
   "cell_type": "code",
   "execution_count": 1,
   "metadata": {
    "collapsed": true
   },
   "outputs": [],
   "source": [
    "import pandas as pd\n",
    "import json"
   ]
  },
  {
   "cell_type": "code",
   "execution_count": 25,
   "metadata": {
    "collapsed": false
   },
   "outputs": [
    {
     "name": "stdout",
     "output_type": "stream",
     "text": [
      "CPU times: user 7.06 s, sys: 1.68 s, total: 8.74 s\n",
      "Wall time: 10.8 s\n"
     ]
    }
   ],
   "source": [
    "%%time \n",
    "\n",
    "with open(\"reviews.json\") as f:\n",
    "    dat = pd.DataFrame(json.loads(line) for line in f)"
   ]
  },
  {
   "cell_type": "code",
   "execution_count": 3,
   "metadata": {
    "collapsed": false
   },
   "outputs": [
    {
     "data": {
      "text/html": [
       "<div>\n",
       "<table border=\"1\" class=\"dataframe\">\n",
       "  <thead>\n",
       "    <tr style=\"text-align: right;\">\n",
       "      <th></th>\n",
       "      <th>author</th>\n",
       "      <th>date</th>\n",
       "      <th>product_name</th>\n",
       "      <th>rating</th>\n",
       "      <th>text</th>\n",
       "      <th>title</th>\n",
       "    </tr>\n",
       "  </thead>\n",
       "  <tbody>\n",
       "    <tr>\n",
       "      <th>79817</th>\n",
       "      <td>Danny V.</td>\n",
       "      <td>on October 16, 2013</td>\n",
       "      <td>SanDisk Cruzer Fit CZ33 16GB USB 2.0 Low-Profi...</td>\n",
       "      <td>2.0 out of 5 stars</td>\n",
       "      <td>I have to keep tweaking the registry in Window...</td>\n",
       "      <td>Disappointed</td>\n",
       "    </tr>\n",
       "    <tr>\n",
       "      <th>179801</th>\n",
       "      <td>jrdraga</td>\n",
       "      <td>on November 1, 2015</td>\n",
       "      <td>SanDisk Ultra Fit CZ43 16GB USB 3.0 Low-Profi...</td>\n",
       "      <td>5.0 out of 5 stars</td>\n",
       "      <td>Works exactly as expected.  It is nice to have...</td>\n",
       "      <td>Two thumbs up</td>\n",
       "    </tr>\n",
       "    <tr>\n",
       "      <th>310227</th>\n",
       "      <td>nana n</td>\n",
       "      <td>on September 5, 2014</td>\n",
       "      <td>SanDisk Cruzer CZ36 128GB USB 2.0 Flash Drive-...</td>\n",
       "      <td>5.0 out of 5 stars</td>\n",
       "      <td>works good</td>\n",
       "      <td>Five Stars</td>\n",
       "    </tr>\n",
       "    <tr>\n",
       "      <th>73478</th>\n",
       "      <td>Deogracias G.</td>\n",
       "      <td>on June 7, 2015</td>\n",
       "      <td>Samsung 850 EVO 1 TB 2.5-Inch SATA III Interna...</td>\n",
       "      <td>5.0 out of 5 stars</td>\n",
       "      <td>It was the upgrade that my laptop needed. Boot...</td>\n",
       "      <td>It was the upgrade that my laptop needed. Boot...</td>\n",
       "    </tr>\n",
       "  </tbody>\n",
       "</table>\n",
       "</div>"
      ],
      "text/plain": [
       "               author                  date  \\\n",
       "79817        Danny V.   on October 16, 2013   \n",
       "179801        jrdraga   on November 1, 2015   \n",
       "310227         nana n  on September 5, 2014   \n",
       "73478   Deogracias G.       on June 7, 2015   \n",
       "\n",
       "                                             product_name              rating  \\\n",
       "79817   SanDisk Cruzer Fit CZ33 16GB USB 2.0 Low-Profi...  2.0 out of 5 stars   \n",
       "179801  SanDisk Ultra Fit CZ43 16GB USB 3.0 Low-Profi...  5.0 out of 5 stars   \n",
       "310227  SanDisk Cruzer CZ36 128GB USB 2.0 Flash Drive-...  5.0 out of 5 stars   \n",
       "73478   Samsung 850 EVO 1 TB 2.5-Inch SATA III Interna...  5.0 out of 5 stars   \n",
       "\n",
       "                                                     text  \\\n",
       "79817   I have to keep tweaking the registry in Window...   \n",
       "179801  Works exactly as expected.  It is nice to have...   \n",
       "310227                                         works good   \n",
       "73478   It was the upgrade that my laptop needed. Boot...   \n",
       "\n",
       "                                                    title  \n",
       "79817                                        Disappointed  \n",
       "179801                                      Two thumbs up  \n",
       "310227                                         Five Stars  \n",
       "73478   It was the upgrade that my laptop needed. Boot...  "
      ]
     },
     "execution_count": 3,
     "metadata": {},
     "output_type": "execute_result"
    }
   ],
   "source": [
    "dat.sample(4)"
   ]
  },
  {
   "cell_type": "markdown",
   "metadata": {},
   "source": [
    "## Cleaning"
   ]
  },
  {
   "cell_type": "code",
   "execution_count": 44,
   "metadata": {
    "collapsed": false
   },
   "outputs": [],
   "source": [
    "from sklearn.preprocessing import FunctionTransformer\n",
    "from sklearn.pipeline import make_pipeline\n",
    "from sklearn.feature_extraction.text import CountVectorizer, HashingVectorizer, TfidfTransformer\n",
    "\n",
    "import nltk"
   ]
  },
  {
   "cell_type": "code",
   "execution_count": 26,
   "metadata": {
    "collapsed": false,
    "scrolled": true
   },
   "outputs": [
    {
     "name": "stdout",
     "output_type": "stream",
     "text": [
      "CPU times: user 1min 25s, sys: 693 ms, total: 1min 25s\n",
      "Wall time: 1min 35s\n"
     ]
    }
   ],
   "source": [
    "%%time\n",
    "\n",
    "def prepare_file(raw_dat):\n",
    "    ''' Read raw JSON file and convert to pkl'''\n",
    "\n",
    "    clean_data = raw_dat.copy()\n",
    "    \n",
    "    # Parse ratings\n",
    "    clean_data['rating'] = clean_data['rating'].str.split(' ').str[0].astype(float)\n",
    "\n",
    "    # Parse review dates\n",
    "    clean_data['date'] = pd.to_datetime(clean_data.date)\n",
    "    \n",
    "    return clean_data\n",
    "\n",
    "clean_pipeline = make_pipeline(FunctionTransformer(func=prepare_file, validate=False))\n",
    "cdat = clean_pipeline.fit_transform(dat)"
   ]
  },
  {
   "cell_type": "markdown",
   "metadata": {},
   "source": [
    "## Process single element \n",
    "\n",
    "\"WD My Passport Ultra 2 TB Portable External USB 3.0 Hard Drive with Auto Backup, Black\""
   ]
  },
  {
   "cell_type": "code",
   "execution_count": 53,
   "metadata": {
    "collapsed": true
   },
   "outputs": [],
   "source": [
    "from sklearn import linear_model\n",
    "from sklearn.cross_validation import train_test_split"
   ]
  },
  {
   "cell_type": "code",
   "execution_count": 148,
   "metadata": {
    "collapsed": false
   },
   "outputs": [],
   "source": [
    "passp = cdat[cdat.product_name == \"WD My Passport Ultra 2 TB Portable External USB 3.0 Hard Drive with Auto Backup, Black\"]\n",
    "#passp = passp.sample(1000)"
   ]
  },
  {
   "cell_type": "code",
   "execution_count": 149,
   "metadata": {
    "collapsed": false
   },
   "outputs": [],
   "source": [
    "p = make_pipeline(CountVectorizer(ngram_range=(1,3), \n",
    "                                  min_df=2, \n",
    "                                  max_features = 2000, \n",
    "                                  stop_words=nltk.corpus.stopwords.words('english')),\n",
    "                  #linear_model.RidgeCV(alphas=[80, 100, 200]))\n",
    "                  linear_model.Ridge(alpha=100))"
   ]
  },
  {
   "cell_type": "code",
   "execution_count": 150,
   "metadata": {
    "collapsed": true
   },
   "outputs": [],
   "source": [
    "X_train, X_test, y_train, y_test = train_test_split(cdat.text, cdat.rating, test_size=0.1 )"
   ]
  },
  {
   "cell_type": "code",
   "execution_count": 151,
   "metadata": {
    "collapsed": false
   },
   "outputs": [
    {
     "name": "stdout",
     "output_type": "stream",
     "text": [
      "CPU times: user 2min 34s, sys: 9.27 s, total: 2min 43s\n",
      "Wall time: 2min 58s\n"
     ]
    },
    {
     "data": {
      "text/plain": [
       "Pipeline(steps=[('countvectorizer', CountVectorizer(analyzer='word', binary=False, decode_error='strict',\n",
       "        dtype=<class 'numpy.int64'>, encoding='utf-8', input='content',\n",
       "        lowercase=True, max_df=1.0, max_features=2000, min_df=2,\n",
       "        ngram_range=(1, 3), preprocessor=None,\n",
       "        stop_words=...it_intercept=True, max_iter=None,\n",
       "   normalize=False, random_state=None, solver='auto', tol=0.001))])"
      ]
     },
     "execution_count": 151,
     "metadata": {},
     "output_type": "execute_result"
    }
   ],
   "source": [
    "%%time \n",
    "\n",
    "p.fit(X_train, y_train)"
   ]
  },
  {
   "cell_type": "code",
   "execution_count": 153,
   "metadata": {
    "collapsed": false
   },
   "outputs": [
    {
     "data": {
      "text/plain": [
       "0.45772001286789132"
      ]
     },
     "execution_count": 153,
     "metadata": {},
     "output_type": "execute_result"
    }
   ],
   "source": [
    "p.score(X_test, y_test)  #0.457"
   ]
  },
  {
   "cell_type": "code",
   "execution_count": 154,
   "metadata": {
    "collapsed": false
   },
   "outputs": [],
   "source": [
    "# Get the vocabularu from CountVectorizer\n",
    "vocab = p.steps[0][1].vocabulary_\n",
    "vocab = pd.DataFrame([vocab]).T.reset_index().set_index(0)\n",
    "\n",
    "# Get the coefficients from Ridge regression\n",
    "rcoefs = pd.DataFrame(p.steps[1][1].coef_)\n",
    "\n",
    "# Combine into single result\n",
    "res = pd.concat([vocab, rcoefs], axis=1)\n",
    "\n",
    "res.columns=[\"term\", \"correlation\"]"
   ]
  },
  {
   "cell_type": "code",
   "execution_count": 155,
   "metadata": {
    "collapsed": false,
    "scrolled": false
   },
   "outputs": [
    {
     "data": {
      "text/html": [
       "<div>\n",
       "<table border=\"1\" class=\"dataframe\">\n",
       "  <thead>\n",
       "    <tr style=\"text-align: right;\">\n",
       "      <th></th>\n",
       "      <th>term</th>\n",
       "      <th>correlation</th>\n",
       "    </tr>\n",
       "    <tr>\n",
       "      <th>0</th>\n",
       "      <th></th>\n",
       "      <th></th>\n",
       "    </tr>\n",
       "  </thead>\n",
       "  <tbody>\n",
       "    <tr>\n",
       "      <th>1884</th>\n",
       "      <td>waste</td>\n",
       "      <td>-0.814415</td>\n",
       "    </tr>\n",
       "    <tr>\n",
       "      <th>1455</th>\n",
       "      <td>returned</td>\n",
       "      <td>-0.796286</td>\n",
       "    </tr>\n",
       "    <tr>\n",
       "      <th>1456</th>\n",
       "      <td>returning</td>\n",
       "      <td>-0.760478</td>\n",
       "    </tr>\n",
       "    <tr>\n",
       "      <th>429</th>\n",
       "      <td>died</td>\n",
       "      <td>-0.736852</td>\n",
       "    </tr>\n",
       "    <tr>\n",
       "      <th>232</th>\n",
       "      <td>broke</td>\n",
       "      <td>-0.673532</td>\n",
       "    </tr>\n",
       "    <tr>\n",
       "      <th>436</th>\n",
       "      <td>disappointing</td>\n",
       "      <td>-0.655579</td>\n",
       "    </tr>\n",
       "    <tr>\n",
       "      <th>708</th>\n",
       "      <td>garbage</td>\n",
       "      <td>-0.647042</td>\n",
       "    </tr>\n",
       "    <tr>\n",
       "      <th>435</th>\n",
       "      <td>disappointed</td>\n",
       "      <td>-0.644655</td>\n",
       "    </tr>\n",
       "    <tr>\n",
       "      <th>1712</th>\n",
       "      <td>terrible</td>\n",
       "      <td>-0.638958</td>\n",
       "    </tr>\n",
       "    <tr>\n",
       "      <th>402</th>\n",
       "      <td>dead</td>\n",
       "      <td>-0.595240</td>\n",
       "    </tr>\n",
       "    <tr>\n",
       "      <th>1454</th>\n",
       "      <td>return</td>\n",
       "      <td>-0.572471</td>\n",
       "    </tr>\n",
       "    <tr>\n",
       "      <th>1659</th>\n",
       "      <td>stopped working</td>\n",
       "      <td>-0.563409</td>\n",
       "    </tr>\n",
       "    <tr>\n",
       "      <th>905</th>\n",
       "      <td>junk</td>\n",
       "      <td>-0.562263</td>\n",
       "    </tr>\n",
       "    <tr>\n",
       "      <th>1841</th>\n",
       "      <td>useless</td>\n",
       "      <td>-0.561636</td>\n",
       "    </tr>\n",
       "    <tr>\n",
       "      <th>1658</th>\n",
       "      <td>stopped</td>\n",
       "      <td>-0.556168</td>\n",
       "    </tr>\n",
       "    <tr>\n",
       "      <th>1423</th>\n",
       "      <td>refund</td>\n",
       "      <td>-0.536991</td>\n",
       "    </tr>\n",
       "    <tr>\n",
       "      <th>192</th>\n",
       "      <td>beware</td>\n",
       "      <td>-0.533273</td>\n",
       "    </tr>\n",
       "    <tr>\n",
       "      <th>407</th>\n",
       "      <td>defective</td>\n",
       "      <td>-0.530122</td>\n",
       "    </tr>\n",
       "    <tr>\n",
       "      <th>1580</th>\n",
       "      <td>slow</td>\n",
       "      <td>-0.513909</td>\n",
       "    </tr>\n",
       "    <tr>\n",
       "      <th>445</th>\n",
       "      <td>doesn work</td>\n",
       "      <td>-0.502436</td>\n",
       "    </tr>\n",
       "  </tbody>\n",
       "</table>\n",
       "</div>"
      ],
      "text/plain": [
       "                 term  correlation\n",
       "0                                 \n",
       "1884            waste    -0.814415\n",
       "1455         returned    -0.796286\n",
       "1456        returning    -0.760478\n",
       "429              died    -0.736852\n",
       "232             broke    -0.673532\n",
       "436     disappointing    -0.655579\n",
       "708           garbage    -0.647042\n",
       "435      disappointed    -0.644655\n",
       "1712         terrible    -0.638958\n",
       "402              dead    -0.595240\n",
       "1454           return    -0.572471\n",
       "1659  stopped working    -0.563409\n",
       "905              junk    -0.562263\n",
       "1841          useless    -0.561636\n",
       "1658          stopped    -0.556168\n",
       "1423           refund    -0.536991\n",
       "192            beware    -0.533273\n",
       "407         defective    -0.530122\n",
       "1580             slow    -0.513909\n",
       "445        doesn work    -0.502436"
      ]
     },
     "execution_count": 155,
     "metadata": {},
     "output_type": "execute_result"
    }
   ],
   "source": [
    "# Worse points\n",
    "res.sort_values(\"correlation\").head(20)"
   ]
  },
  {
   "cell_type": "code",
   "execution_count": 156,
   "metadata": {
    "collapsed": false
   },
   "outputs": [
    {
     "data": {
      "text/html": [
       "<div>\n",
       "<table border=\"1\" class=\"dataframe\">\n",
       "  <thead>\n",
       "    <tr style=\"text-align: right;\">\n",
       "      <th></th>\n",
       "      <th>term</th>\n",
       "      <th>correlation</th>\n",
       "    </tr>\n",
       "    <tr>\n",
       "      <th>0</th>\n",
       "      <th></th>\n",
       "      <th></th>\n",
       "    </tr>\n",
       "  </thead>\n",
       "  <tbody>\n",
       "    <tr>\n",
       "      <th>572</th>\n",
       "      <td>excelente</td>\n",
       "      <td>0.401236</td>\n",
       "    </tr>\n",
       "    <tr>\n",
       "      <th>571</th>\n",
       "      <td>excelent</td>\n",
       "      <td>0.369205</td>\n",
       "    </tr>\n",
       "    <tr>\n",
       "      <th>573</th>\n",
       "      <td>excellent</td>\n",
       "      <td>0.354688</td>\n",
       "    </tr>\n",
       "    <tr>\n",
       "      <th>155</th>\n",
       "      <td>awesome</td>\n",
       "      <td>0.323583</td>\n",
       "    </tr>\n",
       "    <tr>\n",
       "      <th>1233</th>\n",
       "      <td>perfect</td>\n",
       "      <td>0.304605</td>\n",
       "    </tr>\n",
       "    <tr>\n",
       "      <th>733</th>\n",
       "      <td>go wrong</td>\n",
       "      <td>0.298034</td>\n",
       "    </tr>\n",
       "    <tr>\n",
       "      <th>1007</th>\n",
       "      <td>love</td>\n",
       "      <td>0.271021</td>\n",
       "    </tr>\n",
       "    <tr>\n",
       "      <th>1267</th>\n",
       "      <td>pleased</td>\n",
       "      <td>0.268330</td>\n",
       "    </tr>\n",
       "    <tr>\n",
       "      <th>108</th>\n",
       "      <td>amazing</td>\n",
       "      <td>0.267103</td>\n",
       "    </tr>\n",
       "    <tr>\n",
       "      <th>1547</th>\n",
       "      <td>several months</td>\n",
       "      <td>0.262605</td>\n",
       "    </tr>\n",
       "    <tr>\n",
       "      <th>1036</th>\n",
       "      <td>make sure</td>\n",
       "      <td>0.260648</td>\n",
       "    </tr>\n",
       "    <tr>\n",
       "      <th>1235</th>\n",
       "      <td>perfectly</td>\n",
       "      <td>0.252603</td>\n",
       "    </tr>\n",
       "    <tr>\n",
       "      <th>1493</th>\n",
       "      <td>satisfied</td>\n",
       "      <td>0.251904</td>\n",
       "    </tr>\n",
       "    <tr>\n",
       "      <th>1942</th>\n",
       "      <td>working fine</td>\n",
       "      <td>0.250049</td>\n",
       "    </tr>\n",
       "    <tr>\n",
       "      <th>1040</th>\n",
       "      <td>manager</td>\n",
       "      <td>0.248705</td>\n",
       "    </tr>\n",
       "    <tr>\n",
       "      <th>1932</th>\n",
       "      <td>work great</td>\n",
       "      <td>0.243944</td>\n",
       "    </tr>\n",
       "    <tr>\n",
       "      <th>754</th>\n",
       "      <td>great</td>\n",
       "      <td>0.241118</td>\n",
       "    </tr>\n",
       "    <tr>\n",
       "      <th>1965</th>\n",
       "      <td>would buy</td>\n",
       "      <td>0.236108</td>\n",
       "    </tr>\n",
       "    <tr>\n",
       "      <th>677</th>\n",
       "      <td>following</td>\n",
       "      <td>0.234971</td>\n",
       "    </tr>\n",
       "    <tr>\n",
       "      <th>1438</th>\n",
       "      <td>replacement drive</td>\n",
       "      <td>0.229597</td>\n",
       "    </tr>\n",
       "  </tbody>\n",
       "</table>\n",
       "</div>"
      ],
      "text/plain": [
       "                   term  correlation\n",
       "0                                   \n",
       "572           excelente     0.401236\n",
       "571            excelent     0.369205\n",
       "573           excellent     0.354688\n",
       "155             awesome     0.323583\n",
       "1233            perfect     0.304605\n",
       "733            go wrong     0.298034\n",
       "1007               love     0.271021\n",
       "1267            pleased     0.268330\n",
       "108             amazing     0.267103\n",
       "1547     several months     0.262605\n",
       "1036          make sure     0.260648\n",
       "1235          perfectly     0.252603\n",
       "1493          satisfied     0.251904\n",
       "1942       working fine     0.250049\n",
       "1040            manager     0.248705\n",
       "1932         work great     0.243944\n",
       "754               great     0.241118\n",
       "1965          would buy     0.236108\n",
       "677           following     0.234971\n",
       "1438  replacement drive     0.229597"
      ]
     },
     "execution_count": 156,
     "metadata": {},
     "output_type": "execute_result"
    }
   ],
   "source": [
    "# Best points\n",
    "res.sort_values(\"correlation\", ascending=False).head(20)"
   ]
  },
  {
   "cell_type": "code",
   "execution_count": null,
   "metadata": {
    "collapsed": true
   },
   "outputs": [],
   "source": []
  }
 ],
 "metadata": {
  "hide_input": "False",
  "kernelspec": {
   "display_name": "Python 3",
   "language": "python",
   "name": "python3"
  },
  "language_info": {
   "codemirror_mode": {
    "name": "ipython",
    "version": 3
   },
   "file_extension": ".py",
   "mimetype": "text/x-python",
   "name": "python",
   "nbconvert_exporter": "python",
   "pygments_lexer": "ipython3",
   "version": "3.5.1"
  }
 },
 "nbformat": 4,
 "nbformat_minor": 0
}
